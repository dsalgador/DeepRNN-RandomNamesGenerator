{
 "cells": [
  {
   "cell_type": "code",
   "execution_count": 1,
   "metadata": {},
   "outputs": [
    {
     "data": {
      "text/html": [
       "<script>\n",
       "code_show=true; \n",
       "function code_toggle() {\n",
       " if (code_show){\n",
       " $('div.input').hide();\n",
       " } else {\n",
       " $('div.input').show();\n",
       " }\n",
       " code_show = !code_show\n",
       "} \n",
       "$( document ).ready(code_toggle);\n",
       "</script>\n",
       "<form action=\"javascript:code_toggle()\"><input type=\"submit\" value=\"Click here to toggle on/off the raw code.\"></form>"
      ],
      "text/plain": [
       "<IPython.core.display.HTML object>"
      ]
     },
     "execution_count": 1,
     "metadata": {},
     "output_type": "execute_result"
    }
   ],
   "source": [
    "from IPython.display import HTML\n",
    "\n",
    "HTML('''<script>\n",
    "code_show=true; \n",
    "function code_toggle() {\n",
    " if (code_show){\n",
    " $('div.input').hide();\n",
    " } else {\n",
    " $('div.input').show();\n",
    " }\n",
    " code_show = !code_show\n",
    "} \n",
    "$( document ).ready(code_toggle);\n",
    "</script>\n",
    "<form action=\"javascript:code_toggle()\"><input type=\"submit\" value=\"Click here to toggle on/off the raw code.\"></form>''')"
   ]
  },
  {
   "cell_type": "markdown",
   "metadata": {},
   "source": [
    "# Random Dinosaur Names Generator with Stateful LSTM"
   ]
  },
  {
   "cell_type": "code",
   "execution_count": 2,
   "metadata": {},
   "outputs": [],
   "source": [
    "import sys\n",
    "sys.path.append('..')"
   ]
  },
  {
   "cell_type": "code",
   "execution_count": 3,
   "metadata": {},
   "outputs": [],
   "source": [
    "#DATA_PATH = \"../data/babynames-clean.csv\"\n",
    "DATA_PATH = \"../data/dinos.txt\""
   ]
  },
  {
   "cell_type": "code",
   "execution_count": 4,
   "metadata": {},
   "outputs": [],
   "source": [
    "import numpy as np\n",
    "from src.utils import *\n",
    "import random\n",
    "import pprint\n",
    "\n",
    "from tensorflow.keras.models import Sequential\n",
    "from tensorflow.keras.layers import TimeDistributed, Dense, Dropout, SimpleRNN, RepeatVector, LSTM, Bidirectional\n",
    "from tensorflow.keras.callbacks import EarlyStopping, LambdaCallback\n",
    "from tensorflow.keras import regularizers, optimizers\n"
   ]
  },
  {
   "cell_type": "code",
   "execution_count": 5,
   "metadata": {},
   "outputs": [
    {
     "name": "stdout",
     "output_type": "stream",
     "text": [
      "There are 19909 total characters and 27 unique characters in your data.\n"
     ]
    }
   ],
   "source": [
    "data = open(DATA_PATH, 'r').read()\n",
    "data= data.lower()\n",
    "chars = list(set(data))\n",
    "data_size, vocab_size = len(data), len(chars)\n",
    "print('There are %d total characters and %d unique characters in your data.' % (data_size, vocab_size))"
   ]
  },
  {
   "cell_type": "markdown",
   "metadata": {},
   "source": [
    "Example:"
   ]
  },
  {
   "cell_type": "code",
   "execution_count": 6,
   "metadata": {},
   "outputs": [
    {
     "data": {
      "text/plain": [
       "'aachenosaurus'"
      ]
     },
     "execution_count": 6,
     "metadata": {},
     "output_type": "execute_result"
    }
   ],
   "source": [
    "all_names =  data.split(\"\\n\")\n",
    "all_names[0]"
   ]
  },
  {
   "cell_type": "markdown",
   "metadata": {},
   "source": [
    "Number of available names:"
   ]
  },
  {
   "cell_type": "code",
   "execution_count": 7,
   "metadata": {},
   "outputs": [
    {
     "data": {
      "text/plain": [
       "1536"
      ]
     },
     "execution_count": 7,
     "metadata": {},
     "output_type": "execute_result"
    }
   ],
   "source": [
    "len(all_names)"
   ]
  },
  {
   "cell_type": "markdown",
   "metadata": {},
   "source": [
    "Different characters present:"
   ]
  },
  {
   "cell_type": "code",
   "execution_count": 8,
   "metadata": {},
   "outputs": [
    {
     "name": "stdout",
     "output_type": "stream",
     "text": [
      "['\\n', 'a', 'b', 'c', 'd', 'e', 'f', 'g', 'h', 'i', 'j', 'k', 'l', 'm', 'n', 'o', 'p', 'q', 'r', 's', 't', 'u', 'v', 'w', 'x', 'y', 'z']\n"
     ]
    }
   ],
   "source": [
    "chars = sorted(chars)\n",
    "print(chars)"
   ]
  },
  {
   "cell_type": "code",
   "execution_count": 9,
   "metadata": {},
   "outputs": [],
   "source": [
    "char_to_ix = { ch:i for i,ch in enumerate(chars) }\n",
    "ix_to_char = { i:ch for i,ch in enumerate(chars) }\n",
    "#pp = pprint.PrettyPrinter(indent=4)\n",
    "#pp.pprint(ix_to_char)"
   ]
  },
  {
   "cell_type": "code",
   "execution_count": 10,
   "metadata": {},
   "outputs": [
    {
     "name": "stdout",
     "output_type": "stream",
     "text": [
      "The max length of a name (max_num_timesteps) is 26\n",
      "The size of the character vocabulary is 27\n"
     ]
    }
   ],
   "source": [
    "max_time_steps = max( map( lambda x: len(x), data.split(\"\\n\") ))\n",
    "print(f\"The max length of a name (max_num_timesteps) is {max_time_steps}\")\n",
    "\n",
    "num_features = vocab_size\n",
    "print(f\"The size of the character vocabulary is {num_features}\")"
   ]
  },
  {
   "cell_type": "markdown",
   "metadata": {},
   "source": [
    "# 1. Vectorize dataset (on-hot encoding)"
   ]
  },
  {
   "cell_type": "code",
   "execution_count": 11,
   "metadata": {},
   "outputs": [],
   "source": [
    "test_example = all_names[0]"
   ]
  },
  {
   "cell_type": "code",
   "execution_count": 12,
   "metadata": {},
   "outputs": [],
   "source": [
    "def create_one_hot(one_pos, vector_size):\n",
    "    x = np.zeros( vector_size )\n",
    "    x[one_pos] = 1\n",
    "    return x"
   ]
  },
  {
   "cell_type": "code",
   "execution_count": 13,
   "metadata": {},
   "outputs": [],
   "source": [
    "def vectorize_example(example):\n",
    "    \"\"\"\n",
    "    example: str name\n",
    "    \"\"\"\n",
    "    x = np.zeros((max_time_steps+1, num_features))\n",
    "    \n",
    "    diff_x = max_time_steps  - len(example)\n",
    "    \n",
    "    #x[0,:] = 0\n",
    "    \n",
    "    for i, c in enumerate(example):\n",
    "        x[i+1, char_to_ix[c] ] = 1 \n",
    "    \n",
    "    i = len(example)-1\n",
    "    for j in range(diff_x):\n",
    "        x[j+i+2, char_to_ix['\\n']] = 1       \n",
    "        \n",
    "    y = np.vstack( (x[1:], create_one_hot(char_to_ix['\\n'], num_features)))\n",
    "    \n",
    "    return x, y\n"
   ]
  },
  {
   "cell_type": "code",
   "execution_count": 14,
   "metadata": {},
   "outputs": [],
   "source": [
    "x, y = vectorize_example(test_example)"
   ]
  },
  {
   "cell_type": "code",
   "execution_count": 15,
   "metadata": {},
   "outputs": [],
   "source": [
    "#print(x.shape, y.shape)"
   ]
  },
  {
   "cell_type": "code",
   "execution_count": 16,
   "metadata": {},
   "outputs": [],
   "source": [
    "def devectorize_example(example): \n",
    "    result = [ix_to_char[np.argmax(vec)] for vec in example]\n",
    "    return ''.join(result)"
   ]
  },
  {
   "cell_type": "code",
   "execution_count": 17,
   "metadata": {},
   "outputs": [],
   "source": [
    "#devectorize_example(y)"
   ]
  },
  {
   "cell_type": "code",
   "execution_count": 18,
   "metadata": {},
   "outputs": [],
   "source": [
    "#devectorize_example(x)"
   ]
  },
  {
   "cell_type": "markdown",
   "metadata": {},
   "source": [
    "# 2. Create vectorized dataset"
   ]
  },
  {
   "cell_type": "code",
   "execution_count": 19,
   "metadata": {},
   "outputs": [],
   "source": [
    "def create_vectorized_dataset(data):\n",
    "    \"\"\"\n",
    "    data must be a list of name strings.\n",
    "    \"\"\"\n",
    "    num_examples = len(data)\n",
    "    \n",
    "    X = np.zeros((num_examples, max_time_steps+1, num_features))\n",
    "    Y = np.zeros((num_examples, max_time_steps+1, num_features))\n",
    "    \n",
    "    for i, example in enumerate(data):\n",
    "        #print(example)\n",
    "        x_i, y_i = vectorize_example(example)\n",
    "        X[i] = x_i\n",
    "        Y[i] = y_i\n",
    "        \n",
    "    return X , Y\n",
    "\n",
    "X,Y = create_vectorized_dataset(all_names)"
   ]
  },
  {
   "cell_type": "markdown",
   "metadata": {},
   "source": [
    "# 3. Create the model"
   ]
  },
  {
   "cell_type": "code",
   "execution_count": 20,
   "metadata": {},
   "outputs": [],
   "source": [
    "def sample(model, char_to_ix, seed):\n",
    "    \"\"\"\n",
    "    Sample a sequence of characters according to a sequence of probability distributions output of the RNN\n",
    "\n",
    "    Arguments:\n",
    "    model -- RNN keras model\n",
    "    char_to_ix -- python dictionary mapping each character to an index.\n",
    "    seed -- random seed.\n",
    "\n",
    "    Returns:\n",
    "    indices -- a list of length n containing the indices of the sampled characters.\n",
    "    \"\"\"\n",
    "\n",
    "    \n",
    "    # Step 1: Create the a zero vector x that can be used as the one-hot vector \n",
    "    # representing the first character (initializing the sequence generation). (≈1 line)\n",
    "    ix = np.random.randint(0,vocab_size)\n",
    "    x = np.zeros((1, 1, num_features))\n",
    "    #x[:, : ,ix] = 1\n",
    "        \n",
    "    # Create an empty list of indices, this is the list which will contain the list of indices of the characters to generate (≈1 line)\n",
    "    indices = []\n",
    "    \n",
    "    # idx is the index of the one-hot vector x that is set to 1\n",
    "    # All other positions in x are zero.\n",
    "    # We will initialize idx to -1\n",
    "    idx = -1 \n",
    "    \n",
    "    # Loop over time-steps t. At each time-step:\n",
    "    # sample a character from a probability distribution \n",
    "    # and append its index (`idx`) to the list \"indices\". \n",
    "    # We'll stop if we reach 50 characters \n",
    "    # (which should be very unlikely with a well trained model).\n",
    "    # Setting the maximum number of characters helps with debugging and prevents infinite loops. \n",
    "    counter = 0\n",
    "    newline_character = char_to_ix['\\n']\n",
    "\n",
    "    while (idx != newline_character and counter != 50): # and idx != empty_character):\n",
    "        \n",
    "        # Step 2: Forward propagate x using the equations (1), (2) and (3)\n",
    "        y = model.predict(x)\n",
    "\n",
    "        np.random.seed(counter+seed) \n",
    "        \n",
    "        # Step 3: Sample the index of a character within the vocabulary from the probability distribution y\n",
    "        # (see additional hints above)\n",
    "        idx = np.random.choice(list(range(vocab_size)), p = np.ravel(y))\n",
    "\n",
    "        # Append the index to \"indices\"\n",
    "        indices.append(idx)\n",
    "        \n",
    "        # Step 4: Overwrite the input x with one that corresponds to the sampled index `idx`.\n",
    "        # (see additional hints above)\n",
    "        x = np.zeros((1, 1, num_features))\n",
    "        x[:, : ,idx] = 1 \n",
    "        \n",
    "        # Update \"a_prev\" to be \"a\"\n",
    "        #keras model with stateful = True\n",
    "        \n",
    "        seed += 1\n",
    "        counter +=1\n",
    "        \n",
    "    if (counter == 50):\n",
    "        indices.append(char_to_ix['\\n'])\n",
    "    \n",
    "    return indices"
   ]
  },
  {
   "cell_type": "code",
   "execution_count": 21,
   "metadata": {},
   "outputs": [],
   "source": [
    "def get_new_model(hidden_units = 50,\n",
    "                  max_time_steps = max_time_steps,\n",
    "                  num_features = num_features\n",
    "                 ):\n",
    "    \n",
    "    model = Sequential([\n",
    "        LSTM(hidden_units,\n",
    "                           kernel_regularizer = regularizers.l2(1e-4), return_sequences = True, \n",
    "                      input_shape = (None, num_features), batch_size = 1, stateful = True),\n",
    "        Dropout(0.2),\n",
    "        LSTM(hidden_units, input_shape = (None, hidden_units),\n",
    "             kernel_regularizer = regularizers.l2(1e-4), return_sequences = True,\n",
    "             stateful = True),\n",
    "        Dropout(0.1),\n",
    "        Dense(num_features, activation = 'softmax')\n",
    "    ])\n",
    "\n",
    "    model.compile(\n",
    "        loss = 'categorical_crossentropy',\n",
    "        optimizer = optimizers.Adam(learning_rate=0.001\n",
    "                                   , clipvalue=0.1),\n",
    "        metrics = ['accuracy']\n",
    "    )\n",
    "    \n",
    "    return model"
   ]
  },
  {
   "cell_type": "code",
   "execution_count": 22,
   "metadata": {},
   "outputs": [],
   "source": [
    "model = get_new_model()"
   ]
  },
  {
   "cell_type": "markdown",
   "metadata": {},
   "source": [
    "Summary of the model"
   ]
  },
  {
   "cell_type": "code",
   "execution_count": 23,
   "metadata": {},
   "outputs": [
    {
     "name": "stdout",
     "output_type": "stream",
     "text": [
      "Model: \"sequential\"\n",
      "_________________________________________________________________\n",
      "Layer (type)                 Output Shape              Param #   \n",
      "=================================================================\n",
      "lstm (LSTM)                  (1, None, 50)             15600     \n",
      "_________________________________________________________________\n",
      "dropout (Dropout)            (1, None, 50)             0         \n",
      "_________________________________________________________________\n",
      "lstm_1 (LSTM)                (1, None, 50)             20200     \n",
      "_________________________________________________________________\n",
      "dropout_1 (Dropout)          (1, None, 50)             0         \n",
      "_________________________________________________________________\n",
      "dense (Dense)                (1, None, 27)             1377      \n",
      "=================================================================\n",
      "Total params: 37,177\n",
      "Trainable params: 37,177\n",
      "Non-trainable params: 0\n",
      "_________________________________________________________________\n"
     ]
    }
   ],
   "source": [
    "model.summary()"
   ]
  },
  {
   "cell_type": "markdown",
   "metadata": {},
   "source": [
    "## 3.1 Train the model"
   ]
  },
  {
   "cell_type": "code",
   "execution_count": 24,
   "metadata": {},
   "outputs": [],
   "source": [
    "def print_N_examples(N, e):\n",
    "    if e % 10 == 0 or e is None:\n",
    "        if e is not None:\n",
    "            print(f\"\\nExamples epoch {e}:\")\n",
    "            \n",
    "        examples = ''\n",
    "\n",
    "        for i in range(N):\n",
    "            spl = sample(model, char_to_ix, seed=i)\n",
    "            try:                \n",
    "                ex_i = f\"\\t {i+1}) \" + print_sample(spl, ix_to_char, retrn = True)\n",
    "            except:\n",
    "                ex_i = f\"\\t {i+1}) \" + \"error when printing the example\"\n",
    "                continue\n",
    "                \n",
    "            examples = examples + ex_i\n",
    "        print(examples)\n",
    "    \n",
    "def print_train_logs(e, l):\n",
    "    if e % 10 == 0:\n",
    "        print(f\"Epoch {e}. loss: {l['loss']:.3f} - accuracy: {l['accuracy']:.3f} - val_loss: {l['val_loss']:.3f} - val_accuracy: {l['val_accuracy']:.3f}\")        "
   ]
  },
  {
   "cell_type": "code",
   "execution_count": 25,
   "metadata": {},
   "outputs": [
    {
     "name": "stdout",
     "output_type": "stream",
     "text": [
      "Epoch 0. loss: 1.427 - accuracy: 0.601 - val_loss: 1.204 - val_accuracy: 0.661\n",
      "\n",
      "Examples epoch 0:\n",
      "\t 1) Iixtspdois\n",
      "\t 2) S\n",
      "\t 3) Suuus\n",
      "\t 4) Rga\n",
      "\t 5) Uuus\n",
      "\n",
      "Epoch 10. loss: 0.848 - accuracy: 0.752 - val_loss: 0.969 - val_accuracy: 0.755\n",
      "\n",
      "Examples epoch 10:\n",
      "\t 1) Livusogomordymus\n",
      "\t 2) Ina\n",
      "\t 3) Itus\n",
      "\t 4) Lia\n",
      "\t 5) Us\n",
      "\n",
      "Epoch 20. loss: 0.789 - accuracy: 0.768 - val_loss: 0.963 - val_accuracy: 0.758\n",
      "\n",
      "Examples epoch 20:\n",
      "\t 1) Lexutolliphitgsaurus\n",
      "\t 2) Mia\n",
      "\t 3) Gytitan\n",
      "\t 4) S\n",
      "\t 5) Us\n",
      "\n",
      "Epoch 30. loss: 0.748 - accuracy: 0.779 - val_loss: 0.979 - val_accuracy: 0.759\n",
      "\n",
      "Examples epoch 30:\n",
      "\t 1) Lextrodon\n",
      "\t 2) Osaurus\n",
      "\t 3) Iusotaratia\n",
      "\t 4) Rag\n",
      "\t 5) Us\n",
      "\n",
      "Epoch 00031: early stopping\n"
     ]
    }
   ],
   "source": [
    "l_cb = LambdaCallback(\n",
    "    on_epoch_end = lambda e, l: print_N_examples(5, e), end = '\\n'\n",
    ")\n",
    "\n",
    "\n",
    "logs_cb = LambdaCallback(\n",
    "    on_epoch_end = lambda e, l: print_train_logs(e, l), end = '\\n'\n",
    ")\n",
    "\n",
    "es_cb = EarlyStopping(monitor = 'val_accuracy', patience = 3, verbose = True)\n",
    "\n",
    "callbacks = [logs_cb, l_cb, es_cb]\n",
    "\n",
    "\n",
    "history = model.fit(X, Y, epochs = 1000, batch_size = 1, validation_split = 0.1,\n",
    "         verbose = False, callbacks = callbacks)\n"
   ]
  },
  {
   "cell_type": "markdown",
   "metadata": {},
   "source": [
    "## 3.2 Evaluate the model"
   ]
  },
  {
   "cell_type": "markdown",
   "metadata": {},
   "source": [
    "Print 20 examples generated with the final model"
   ]
  },
  {
   "cell_type": "code",
   "execution_count": 26,
   "metadata": {},
   "outputs": [
    {
     "name": "stdout",
     "output_type": "stream",
     "text": [
      "\n",
      "Examples epoch 100:\n",
      "\t 1) Rius\n",
      "\t 2) Ondeceratops\n",
      "\t 3) Osmus\n",
      "\t 4) Us\n",
      "\t 5) Usluangkanthosaurus\n",
      "\t 6) Efaltiia\n",
      "\t 7) Us\n",
      "\t 8) A\n",
      "\t 9) Tia\n",
      "\t 10) A\n",
      "\t 11) Raphosaurus\n",
      "\t 12) Eosaurus\n",
      "\t 13) Endosaurus\n",
      "\t 14) Rubachosaurus\n",
      "\t 15) Nernevenator\n",
      "\t 16) Ona\n",
      "\t 17) Osaurus\n",
      "\t 18) Ia\n",
      "\t 19) Riathonuingentodon\n",
      "\t 20) Ichus\n",
      "\n"
     ]
    }
   ],
   "source": [
    "print_N_examples(20, 100)"
   ]
  },
  {
   "cell_type": "markdown",
   "metadata": {},
   "source": [
    "Plot accuracy and loss (validation v.s. train)"
   ]
  },
  {
   "cell_type": "code",
   "execution_count": 27,
   "metadata": {},
   "outputs": [],
   "source": [
    "import matplotlib.pyplot as plt\n",
    "import matplotlib.ticker as mticker\n",
    "\n",
    "def plot_train_metric(history, metric = \"accuracy\", \n",
    "                      loc = \"lower right\", tic_freq = 5):\n",
    "    \n",
    "    p1, = plt.plot(history.history[metric], label = metric);\n",
    "    p2, = plt.plot(history.history[\"val_\" + metric], label = \"val_\" + metric);\n",
    "    plt.xlabel(\"Epoch\")\n",
    "    plt.ylabel(metric.title())\n",
    "    plt.title(f\"{metric.title()} v.s. epoch\")\n",
    "    plt.legend(handles = [p1, p2], loc = loc)\n",
    "    plt.gca().xaxis.set_major_locator(mticker.MultipleLocator(tic_freq))\n"
   ]
  },
  {
   "cell_type": "code",
   "execution_count": 28,
   "metadata": {},
   "outputs": [
    {
     "data": {
      "image/png": "[encoded data removed]",
      "text/plain": [
       "<Figure size 432x288 with 1 Axes>"
      ]
     },
     "metadata": {
      "needs_background": "light"
     },
     "output_type": "display_data"
    }
   ],
   "source": [
    "plot_train_metric(history, metric = \"accuracy\")"
   ]
  },
  {
   "cell_type": "code",
   "execution_count": 29,
   "metadata": {},
   "outputs": [
    {
     "data": {
      "image/png": "[encoded data removed]",
      "text/plain": [
       "<Figure size 432x288 with 1 Axes>"
      ]
     },
     "metadata": {
      "needs_background": "light"
     },
     "output_type": "display_data"
    }
   ],
   "source": [
    "plot_train_metric(history, metric = \"loss\", loc = \"upper right\")"
   ]
  },
  {
   "cell_type": "code",
   "execution_count": null,
   "metadata": {},
   "outputs": [],
   "source": []
  }
 ],
 "metadata": {
  "kernelspec": {
   "display_name": "DeepRNN-RandomNamesGenerator-venv",
   "language": "python",
   "name": "deeprnn-randomnamesgenerator-venv"
  },
  "language_info": {
   "codemirror_mode": {
    "name": "ipython",
    "version": 3
   },
   "file_extension": ".py",
   "mimetype": "text/x-python",
   "name": "python",
   "nbconvert_exporter": "python",
   "pygments_lexer": "ipython3",
   "version": "3.7.5"
  }
 },
 "nbformat": 4,
 "nbformat_minor": 4
}
