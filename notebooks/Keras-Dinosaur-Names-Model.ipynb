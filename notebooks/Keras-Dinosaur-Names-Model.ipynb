{
 "cells": [
  {
   "cell_type": "code",
   "execution_count": 75,
   "metadata": {},
   "outputs": [],
   "source": [
    "import sys\n",
    "sys.path.append('..')"
   ]
  },
  {
   "cell_type": "code",
   "execution_count": 76,
   "metadata": {},
   "outputs": [],
   "source": [
    "DATA_PATH = \"../data/dinos.txt\""
   ]
  },
  {
   "cell_type": "code",
   "execution_count": 178,
   "metadata": {},
   "outputs": [],
   "source": [
    "import numpy as np\n",
    "from src.utils import *\n",
    "import random\n",
    "import pprint\n",
    "\n",
    "from tensorflow.keras.models import Sequential\n",
    "from tensorflow.keras.layers import TimeDistributed, Dense, Dropout, SimpleRNN, RepeatVector\n",
    "from tensorflow.keras.callbacks import EarlyStopping, LambdaCallback\n",
    "from tensorflow.keras import regularizers, optimizers\n"
   ]
  },
  {
   "cell_type": "code",
   "execution_count": 78,
   "metadata": {},
   "outputs": [
    {
     "name": "stdout",
     "output_type": "stream",
     "text": [
      "There are 19909 total characters and 28 unique characters in your data.\n"
     ]
    }
   ],
   "source": [
    "data = open(DATA_PATH, 'r').read()\n",
    "data= data.lower()\n",
    "chars = list(set(data))\n",
    "#add empty char\n",
    "chars = [\"\"] + chars\n",
    "\n",
    "data_size, vocab_size = len(data), len(chars)\n",
    "print('There are %d total characters and %d unique characters in your data.' % (data_size, vocab_size))"
   ]
  },
  {
   "cell_type": "code",
   "execution_count": 79,
   "metadata": {},
   "outputs": [
    {
     "data": {
      "text/plain": [
       "'aachenosaurus'"
      ]
     },
     "execution_count": 79,
     "metadata": {},
     "output_type": "execute_result"
    }
   ],
   "source": [
    "all_names =  data.split(\"\\n\")\n",
    "all_names[0]"
   ]
  },
  {
   "cell_type": "code",
   "execution_count": 80,
   "metadata": {},
   "outputs": [
    {
     "name": "stdout",
     "output_type": "stream",
     "text": [
      "['', '\\n', 'a', 'b', 'c', 'd', 'e', 'f', 'g', 'h', 'i', 'j', 'k', 'l', 'm', 'n', 'o', 'p', 'q', 'r', 's', 't', 'u', 'v', 'w', 'x', 'y', 'z']\n"
     ]
    }
   ],
   "source": [
    "chars = sorted(chars)\n",
    "print(chars)"
   ]
  },
  {
   "cell_type": "code",
   "execution_count": 81,
   "metadata": {},
   "outputs": [
    {
     "name": "stdout",
     "output_type": "stream",
     "text": [
      "{   0: '',\n",
      "    1: '\\n',\n",
      "    2: 'a',\n",
      "    3: 'b',\n",
      "    4: 'c',\n",
      "    5: 'd',\n",
      "    6: 'e',\n",
      "    7: 'f',\n",
      "    8: 'g',\n",
      "    9: 'h',\n",
      "    10: 'i',\n",
      "    11: 'j',\n",
      "    12: 'k',\n",
      "    13: 'l',\n",
      "    14: 'm',\n",
      "    15: 'n',\n",
      "    16: 'o',\n",
      "    17: 'p',\n",
      "    18: 'q',\n",
      "    19: 'r',\n",
      "    20: 's',\n",
      "    21: 't',\n",
      "    22: 'u',\n",
      "    23: 'v',\n",
      "    24: 'w',\n",
      "    25: 'x',\n",
      "    26: 'y',\n",
      "    27: 'z'}\n"
     ]
    }
   ],
   "source": [
    "char_to_ix = { ch:i for i,ch in enumerate(chars) }\n",
    "ix_to_char = { i:ch for i,ch in enumerate(chars) }\n",
    "pp = pprint.PrettyPrinter(indent=4)\n",
    "pp.pprint(ix_to_char)"
   ]
  },
  {
   "cell_type": "code",
   "execution_count": 82,
   "metadata": {},
   "outputs": [
    {
     "name": "stdout",
     "output_type": "stream",
     "text": [
      "The max length of a name (max_num_timesteps) is 26\n",
      "The size of the character vocabulary is 28\n"
     ]
    }
   ],
   "source": [
    "max_time_steps = max( map( lambda x: len(x), data.split(\"\\n\") ))\n",
    "print(f\"The max length of a name (max_num_timesteps) is {max_time_steps}\")\n",
    "\n",
    "num_features = vocab_size\n",
    "print(f\"The size of the character vocabulary is {num_features}\")"
   ]
  },
  {
   "cell_type": "markdown",
   "metadata": {},
   "source": [
    "# 1. Vectorize dataset (on-hot encoding)"
   ]
  },
  {
   "cell_type": "code",
   "execution_count": 83,
   "metadata": {},
   "outputs": [
    {
     "data": {
      "text/plain": [
       "'aachenosaurus'"
      ]
     },
     "execution_count": 83,
     "metadata": {},
     "output_type": "execute_result"
    }
   ],
   "source": [
    "test_example = all_names[0]\n",
    "test_example"
   ]
  },
  {
   "cell_type": "code",
   "execution_count": 84,
   "metadata": {},
   "outputs": [],
   "source": [
    "def create_one_hot(one_pos, vector_size):\n",
    "    x = np.zeros( vector_size )\n",
    "    x[one_pos] = 1\n",
    "    return x"
   ]
  },
  {
   "cell_type": "code",
   "execution_count": 85,
   "metadata": {},
   "outputs": [
    {
     "data": {
      "text/plain": [
       "array([0., 1., 0., 0., 0.])"
      ]
     },
     "execution_count": 85,
     "metadata": {},
     "output_type": "execute_result"
    }
   ],
   "source": [
    "create_one_hot(1, 5)"
   ]
  },
  {
   "cell_type": "code",
   "execution_count": 86,
   "metadata": {},
   "outputs": [],
   "source": [
    "def vectorize_example(example):\n",
    "    \"\"\"\n",
    "    example: str name\n",
    "    \"\"\"\n",
    "    x = np.zeros((max_time_steps, num_features))\n",
    "    \n",
    "    diff_x = max_time_steps - len(example)\n",
    "    \n",
    "    for i, c in enumerate(example):\n",
    "        x[i+diff_x, char_to_ix[c] ] = 1    \n",
    "    for i in range(diff_x):\n",
    "        x[i, char_to_ix['']] = 1       \n",
    "        \n",
    "    y = np.vstack( (x[1:], create_one_hot(char_to_ix['\\n'], num_features)))\n",
    "    \n",
    "    return x, y\n"
   ]
  },
  {
   "cell_type": "code",
   "execution_count": 87,
   "metadata": {},
   "outputs": [],
   "source": [
    "x, y = vectorize_example(test_example)"
   ]
  },
  {
   "cell_type": "code",
   "execution_count": 88,
   "metadata": {},
   "outputs": [
    {
     "name": "stdout",
     "output_type": "stream",
     "text": [
      "(26, 28) (26, 28)\n"
     ]
    }
   ],
   "source": [
    "print(x.shape, y.shape)"
   ]
  },
  {
   "cell_type": "code",
   "execution_count": 89,
   "metadata": {},
   "outputs": [
    {
     "data": {
      "text/plain": [
       "'aachenosaurus'"
      ]
     },
     "execution_count": 89,
     "metadata": {},
     "output_type": "execute_result"
    }
   ],
   "source": [
    "def devectorize_example(example): \n",
    "    result = [ix_to_char[np.argmax(vec)] for vec in example]\n",
    "    return ''.join(result)\n",
    "\n",
    "devectorize_example(x)"
   ]
  },
  {
   "cell_type": "code",
   "execution_count": 90,
   "metadata": {},
   "outputs": [
    {
     "data": {
      "text/plain": [
       "'aachenosaurus\\n'"
      ]
     },
     "execution_count": 90,
     "metadata": {},
     "output_type": "execute_result"
    }
   ],
   "source": [
    "devectorize_example(y)"
   ]
  },
  {
   "cell_type": "markdown",
   "metadata": {},
   "source": [
    "# 2. Create vectorized dataset"
   ]
  },
  {
   "cell_type": "code",
   "execution_count": 91,
   "metadata": {},
   "outputs": [],
   "source": [
    "def create_vectorized_dataset(data):\n",
    "    \"\"\"\n",
    "    data must be a list of name strings.\n",
    "    \"\"\"\n",
    "    num_examples = len(data)\n",
    "    \n",
    "    X = np.zeros((num_examples, max_time_steps, num_features))\n",
    "    Y = np.zeros((num_examples, max_time_steps, num_features))\n",
    "    \n",
    "    for i, example in enumerate(data):\n",
    "        x_i, y_i = vectorize_example(example)\n",
    "        X[i] = x_i\n",
    "        Y[i] = y_i\n",
    "        \n",
    "    return X , Y\n",
    "\n",
    "X,Y = create_vectorized_dataset(all_names)"
   ]
  },
  {
   "cell_type": "code",
   "execution_count": 93,
   "metadata": {},
   "outputs": [
    {
     "name": "stdout",
     "output_type": "stream",
     "text": [
      "(1536, 26, 28) (1536, 26, 28)\n"
     ]
    }
   ],
   "source": [
    "print(X.shape, Y.shape)"
   ]
  },
  {
   "cell_type": "markdown",
   "metadata": {},
   "source": [
    "# 3. Create the model"
   ]
  },
  {
   "cell_type": "code",
   "execution_count": 258,
   "metadata": {},
   "outputs": [],
   "source": [
    "# def get_new_model(hidden_units = 128,\n",
    "#                   max_time_steps = max_time_steps,\n",
    "#                   num_features = num_features\n",
    "#                  ):\n",
    "    \n",
    "#     model = Sequential([\n",
    "#         SimpleRNN(hidden_units, input_shape = (None, num_features),\n",
    "#                  kernel_regularizer = regularizers.l2(1e-4)),\n",
    "#         RepeatVector(max_time_steps),\n",
    "#         SimpleRNN(hidden_units, return_sequences = True,\n",
    "#                  kernel_regularizer = regularizers.l2(1e-4)),\n",
    "#         TimeDistributed(Dense(num_features, activation = 'softmax'))\n",
    "#     ])\n",
    "\n",
    "#     model.compile(\n",
    "#         loss = 'categorical_crossentropy',\n",
    "#         optimizer = optimizers.Adam(learning_rate=0.001\n",
    "#                                    , clipvalue=0.1),\n",
    "#         metrics = ['accuracy']\n",
    "#     )\n",
    "    \n",
    "#     return model\n",
    "\n",
    "def get_new_model(hidden_units = 128,\n",
    "                  max_time_steps = max_time_steps,\n",
    "                  num_features = num_features\n",
    "                 ):\n",
    "    \n",
    "    model = Sequential([\n",
    "        SimpleRNN(hidden_units, input_shape = (None, num_features),\n",
    "                 kernel_regularizer = regularizers.l2(1e-4), return_sequences = True),\n",
    "        TimeDistributed(Dense(num_features, activation = 'softmax'))\n",
    "    ])\n",
    "\n",
    "    model.compile(\n",
    "        loss = 'categorical_crossentropy',\n",
    "        optimizer = optimizers.Adam(learning_rate=0.001\n",
    "                                   , clipvalue=0.1),\n",
    "        metrics = ['accuracy']\n",
    "    )\n",
    "    \n",
    "    return model\n",
    "        "
   ]
  },
  {
   "cell_type": "code",
   "execution_count": 259,
   "metadata": {},
   "outputs": [],
   "source": [
    "model = get_new_model()"
   ]
  },
  {
   "cell_type": "code",
   "execution_count": 260,
   "metadata": {},
   "outputs": [
    {
     "name": "stdout",
     "output_type": "stream",
     "text": [
      "Epoch 1/500\n",
      "39/39 [==============================] - 0s 6ms/step - loss: 1.8494 - accuracy: 0.5723 - val_loss: 1.4989 - val_accuracy: 0.6395\n",
      "Epoch 2/500\n",
      "39/39 [==============================] - 0s 4ms/step - loss: 1.4011 - accuracy: 0.6551 - val_loss: 1.3638 - val_accuracy: 0.6692\n",
      "Epoch 3/500\n",
      "39/39 [==============================] - 0s 4ms/step - loss: 1.2758 - accuracy: 0.6802 - val_loss: 1.2867 - val_accuracy: 0.6832\n",
      "Epoch 4/500\n",
      "39/39 [==============================] - 0s 4ms/step - loss: 1.1896 - accuracy: 0.6948 - val_loss: 1.2224 - val_accuracy: 0.6948\n",
      "Epoch 5/500\n",
      "39/39 [==============================] - 0s 4ms/step - loss: 1.1308 - accuracy: 0.7041 - val_loss: 1.1819 - val_accuracy: 0.7052\n",
      "Epoch 6/500\n",
      "39/39 [==============================] - 0s 4ms/step - loss: 1.0862 - accuracy: 0.7144 - val_loss: 1.1451 - val_accuracy: 0.7139\n",
      "Epoch 7/500\n",
      "39/39 [==============================] - 0s 4ms/step - loss: 1.0519 - accuracy: 0.7223 - val_loss: 1.1187 - val_accuracy: 0.7222\n",
      "Epoch 8/500\n",
      "39/39 [==============================] - 0s 4ms/step - loss: 1.0242 - accuracy: 0.7280 - val_loss: 1.0984 - val_accuracy: 0.7295\n",
      "Epoch 9/500\n",
      "39/39 [==============================] - 0s 4ms/step - loss: 1.0013 - accuracy: 0.7325 - val_loss: 1.0775 - val_accuracy: 0.7306\n",
      "Epoch 10/500\n",
      "39/39 [==============================] - 0s 4ms/step - loss: 0.9810 - accuracy: 0.7380 - val_loss: 1.0627 - val_accuracy: 0.7319\n",
      "Epoch 11/500\n",
      "39/39 [==============================] - 0s 5ms/step - loss: 0.9707 - accuracy: 0.7395 - val_loss: 1.0571 - val_accuracy: 0.7336\n",
      "Epoch 12/500\n",
      "39/39 [==============================] - 0s 5ms/step - loss: 0.9478 - accuracy: 0.7443 - val_loss: 1.0374 - val_accuracy: 0.7408\n",
      "Epoch 13/500\n",
      "39/39 [==============================] - 0s 4ms/step - loss: 0.9369 - accuracy: 0.7479 - val_loss: 1.0317 - val_accuracy: 0.7448\n",
      "Epoch 14/500\n",
      "39/39 [==============================] - 0s 4ms/step - loss: 0.9243 - accuracy: 0.7509 - val_loss: 1.0219 - val_accuracy: 0.7470\n",
      "Epoch 15/500\n",
      "39/39 [==============================] - 0s 4ms/step - loss: 0.9143 - accuracy: 0.7534 - val_loss: 1.0162 - val_accuracy: 0.7478\n",
      "Epoch 16/500\n",
      "39/39 [==============================] - 0s 5ms/step - loss: 0.9059 - accuracy: 0.7554 - val_loss: 1.0133 - val_accuracy: 0.7485\n",
      "Epoch 17/500\n",
      "39/39 [==============================] - 0s 4ms/step - loss: 0.8975 - accuracy: 0.7573 - val_loss: 1.0034 - val_accuracy: 0.7502\n",
      "Epoch 18/500\n",
      "39/39 [==============================] - 0s 4ms/step - loss: 0.8924 - accuracy: 0.7592 - val_loss: 1.0007 - val_accuracy: 0.7531\n",
      "Epoch 19/500\n",
      "39/39 [==============================] - 0s 4ms/step - loss: 0.8841 - accuracy: 0.7610 - val_loss: 0.9974 - val_accuracy: 0.7526\n",
      "Epoch 20/500\n",
      "39/39 [==============================] - 0s 4ms/step - loss: 0.8790 - accuracy: 0.7612 - val_loss: 0.9912 - val_accuracy: 0.7506\n",
      "Epoch 21/500\n",
      "39/39 [==============================] - 0s 4ms/step - loss: 0.8729 - accuracy: 0.7634 - val_loss: 0.9993 - val_accuracy: 0.7521\n",
      "Epoch 22/500\n",
      "39/39 [==============================] - 0s 4ms/step - loss: 0.8674 - accuracy: 0.7654 - val_loss: 0.9893 - val_accuracy: 0.7565\n",
      "Epoch 23/500\n",
      "39/39 [==============================] - 0s 4ms/step - loss: 0.8622 - accuracy: 0.7661 - val_loss: 0.9923 - val_accuracy: 0.7536\n",
      "Epoch 24/500\n",
      "39/39 [==============================] - 0s 4ms/step - loss: 0.8561 - accuracy: 0.7684 - val_loss: 0.9938 - val_accuracy: 0.7575\n",
      "Epoch 25/500\n",
      "39/39 [==============================] - 0s 4ms/step - loss: 0.8523 - accuracy: 0.7688 - val_loss: 0.9957 - val_accuracy: 0.7591\n",
      "Epoch 26/500\n",
      "39/39 [==============================] - 0s 4ms/step - loss: 0.8492 - accuracy: 0.7694 - val_loss: 0.9913 - val_accuracy: 0.7559\n",
      "Epoch 27/500\n",
      "39/39 [==============================] - 0s 4ms/step - loss: 0.8441 - accuracy: 0.7709 - val_loss: 0.9907 - val_accuracy: 0.7561\n",
      "Epoch 28/500\n",
      "39/39 [==============================] - 0s 5ms/step - loss: 0.8446 - accuracy: 0.7713 - val_loss: 0.9881 - val_accuracy: 0.7582\n",
      "Epoch 29/500\n",
      "39/39 [==============================] - 0s 4ms/step - loss: 0.8382 - accuracy: 0.7726 - val_loss: 0.9960 - val_accuracy: 0.7565\n",
      "Epoch 30/500\n",
      "39/39 [==============================] - 0s 4ms/step - loss: 0.8351 - accuracy: 0.7735 - val_loss: 0.9895 - val_accuracy: 0.7584\n",
      "Epoch 31/500\n",
      "39/39 [==============================] - 0s 5ms/step - loss: 0.8319 - accuracy: 0.7742 - val_loss: 0.9907 - val_accuracy: 0.7586\n",
      "Epoch 32/500\n",
      "39/39 [==============================] - 0s 4ms/step - loss: 0.8294 - accuracy: 0.7753 - val_loss: 0.9952 - val_accuracy: 0.7562\n",
      "Epoch 33/500\n",
      "39/39 [==============================] - 0s 4ms/step - loss: 0.8253 - accuracy: 0.7759 - val_loss: 0.9818 - val_accuracy: 0.7602\n",
      "Epoch 34/500\n",
      "39/39 [==============================] - 0s 4ms/step - loss: 0.8230 - accuracy: 0.7764 - val_loss: 0.9885 - val_accuracy: 0.7585\n",
      "Epoch 35/500\n",
      "39/39 [==============================] - 0s 4ms/step - loss: 0.8190 - accuracy: 0.7783 - val_loss: 0.9846 - val_accuracy: 0.7605\n",
      "Epoch 36/500\n",
      "39/39 [==============================] - 0s 5ms/step - loss: 0.8169 - accuracy: 0.7791 - val_loss: 0.9962 - val_accuracy: 0.7609\n",
      "Epoch 37/500\n",
      "39/39 [==============================] - 0s 4ms/step - loss: 0.8154 - accuracy: 0.7795 - val_loss: 0.9912 - val_accuracy: 0.7592\n",
      "Epoch 38/500\n",
      "39/39 [==============================] - 0s 4ms/step - loss: 0.8120 - accuracy: 0.7797 - val_loss: 0.9910 - val_accuracy: 0.7589\n",
      "Epoch 39/500\n",
      "39/39 [==============================] - 0s 4ms/step - loss: 0.8087 - accuracy: 0.7811 - val_loss: 0.9965 - val_accuracy: 0.7590\n",
      "Epoch 40/500\n",
      "39/39 [==============================] - 0s 4ms/step - loss: 0.8084 - accuracy: 0.7812 - val_loss: 0.9929 - val_accuracy: 0.7612\n",
      "Epoch 41/500\n",
      "39/39 [==============================] - 0s 4ms/step - loss: 0.8052 - accuracy: 0.7827 - val_loss: 0.9926 - val_accuracy: 0.7605\n",
      "Epoch 42/500\n",
      "39/39 [==============================] - 0s 5ms/step - loss: 0.8025 - accuracy: 0.7824 - val_loss: 0.9937 - val_accuracy: 0.7612\n",
      "Epoch 43/500\n",
      "39/39 [==============================] - 0s 4ms/step - loss: 0.8017 - accuracy: 0.7825 - val_loss: 0.9860 - val_accuracy: 0.7610\n",
      "Epoch 44/500\n",
      "39/39 [==============================] - 0s 4ms/step - loss: 0.7994 - accuracy: 0.7839 - val_loss: 0.9929 - val_accuracy: 0.7612\n",
      "Epoch 45/500\n",
      "39/39 [==============================] - 0s 4ms/step - loss: 0.7973 - accuracy: 0.7854 - val_loss: 0.9931 - val_accuracy: 0.7649\n",
      "Epoch 46/500\n",
      "39/39 [==============================] - 0s 5ms/step - loss: 0.7944 - accuracy: 0.7855 - val_loss: 0.9950 - val_accuracy: 0.7607\n",
      "Epoch 47/500\n",
      "39/39 [==============================] - 0s 4ms/step - loss: 0.7910 - accuracy: 0.7862 - val_loss: 0.9967 - val_accuracy: 0.7621\n",
      "Epoch 48/500\n",
      "39/39 [==============================] - 0s 4ms/step - loss: 0.7882 - accuracy: 0.7876 - val_loss: 0.9926 - val_accuracy: 0.7630\n",
      "Epoch 49/500\n",
      "39/39 [==============================] - 0s 4ms/step - loss: 0.7847 - accuracy: 0.7882 - val_loss: 0.9852 - val_accuracy: 0.7605\n",
      "Epoch 50/500\n",
      "39/39 [==============================] - 0s 4ms/step - loss: 0.7834 - accuracy: 0.7886 - val_loss: 0.9903 - val_accuracy: 0.7601\n",
      "Epoch 51/500\n",
      "39/39 [==============================] - 0s 4ms/step - loss: 0.7835 - accuracy: 0.7889 - val_loss: 1.0013 - val_accuracy: 0.7632\n",
      "Epoch 52/500\n",
      "39/39 [==============================] - 0s 4ms/step - loss: 0.7793 - accuracy: 0.7898 - val_loss: 0.9943 - val_accuracy: 0.7629\n",
      "Epoch 53/500\n",
      "39/39 [==============================] - 0s 4ms/step - loss: 0.7772 - accuracy: 0.7908 - val_loss: 0.9896 - val_accuracy: 0.7624\n",
      "Epoch 54/500\n",
      "39/39 [==============================] - 0s 4ms/step - loss: 0.7749 - accuracy: 0.7912 - val_loss: 1.0008 - val_accuracy: 0.7592\n",
      "Epoch 55/500\n",
      "39/39 [==============================] - 0s 4ms/step - loss: 0.7721 - accuracy: 0.7916 - val_loss: 0.9971 - val_accuracy: 0.7596\n",
      "Epoch 56/500\n",
      "39/39 [==============================] - 0s 4ms/step - loss: 0.7708 - accuracy: 0.7918 - val_loss: 0.9980 - val_accuracy: 0.7625\n",
      "Epoch 57/500\n",
      "39/39 [==============================] - 0s 4ms/step - loss: 0.7686 - accuracy: 0.7928 - val_loss: 0.9997 - val_accuracy: 0.7609\n",
      "Epoch 58/500\n",
      "39/39 [==============================] - 0s 4ms/step - loss: 0.7651 - accuracy: 0.7934 - val_loss: 0.9931 - val_accuracy: 0.7627\n"
     ]
    },
    {
     "name": "stdout",
     "output_type": "stream",
     "text": [
      "Epoch 59/500\n",
      "39/39 [==============================] - 0s 4ms/step - loss: 0.7625 - accuracy: 0.7943 - val_loss: 0.9934 - val_accuracy: 0.7651\n",
      "Epoch 60/500\n",
      "39/39 [==============================] - 0s 4ms/step - loss: 0.7604 - accuracy: 0.7928 - val_loss: 1.0019 - val_accuracy: 0.7629\n",
      "Epoch 61/500\n",
      "39/39 [==============================] - 0s 4ms/step - loss: 0.7598 - accuracy: 0.7954 - val_loss: 1.0050 - val_accuracy: 0.7604\n",
      "Epoch 62/500\n",
      "39/39 [==============================] - 0s 4ms/step - loss: 0.7576 - accuracy: 0.7949 - val_loss: 1.0010 - val_accuracy: 0.7622\n",
      "Epoch 63/500\n",
      "39/39 [==============================] - 0s 4ms/step - loss: 0.7554 - accuracy: 0.7961 - val_loss: 0.9996 - val_accuracy: 0.7627\n",
      "Epoch 64/500\n",
      "39/39 [==============================] - 0s 4ms/step - loss: 0.7533 - accuracy: 0.7975 - val_loss: 1.0098 - val_accuracy: 0.7622\n",
      "Epoch 65/500\n",
      "39/39 [==============================] - 0s 4ms/step - loss: 0.7518 - accuracy: 0.7980 - val_loss: 1.0089 - val_accuracy: 0.7631\n",
      "Epoch 66/500\n",
      "39/39 [==============================] - 0s 4ms/step - loss: 0.7506 - accuracy: 0.7981 - val_loss: 1.0125 - val_accuracy: 0.7631\n",
      "Epoch 67/500\n",
      "39/39 [==============================] - 0s 4ms/step - loss: 0.7469 - accuracy: 0.7988 - val_loss: 1.0061 - val_accuracy: 0.7664\n",
      "Epoch 68/500\n",
      "39/39 [==============================] - 0s 4ms/step - loss: 0.7432 - accuracy: 0.7997 - val_loss: 1.0122 - val_accuracy: 0.7642\n",
      "Epoch 69/500\n",
      "39/39 [==============================] - 0s 4ms/step - loss: 0.7414 - accuracy: 0.8007 - val_loss: 1.0104 - val_accuracy: 0.7604\n",
      "Epoch 70/500\n",
      "39/39 [==============================] - 0s 5ms/step - loss: 0.7411 - accuracy: 0.8013 - val_loss: 1.0057 - val_accuracy: 0.7626\n",
      "Epoch 71/500\n",
      "39/39 [==============================] - 0s 5ms/step - loss: 0.7384 - accuracy: 0.8015 - val_loss: 1.0161 - val_accuracy: 0.7630\n",
      "Epoch 72/500\n",
      "39/39 [==============================] - 0s 5ms/step - loss: 0.7371 - accuracy: 0.8023 - val_loss: 1.0217 - val_accuracy: 0.7612\n",
      "Epoch 73/500\n",
      "39/39 [==============================] - 0s 4ms/step - loss: 0.7338 - accuracy: 0.8026 - val_loss: 1.0265 - val_accuracy: 0.7614\n",
      "Epoch 74/500\n",
      "39/39 [==============================] - 0s 5ms/step - loss: 0.7331 - accuracy: 0.8026 - val_loss: 1.0255 - val_accuracy: 0.7646\n",
      "Epoch 75/500\n",
      "39/39 [==============================] - 0s 4ms/step - loss: 0.7299 - accuracy: 0.8045 - val_loss: 1.0336 - val_accuracy: 0.7597\n",
      "Epoch 76/500\n",
      "39/39 [==============================] - 0s 4ms/step - loss: 0.7295 - accuracy: 0.8047 - val_loss: 1.0197 - val_accuracy: 0.7612\n",
      "Epoch 77/500\n",
      "39/39 [==============================] - 0s 4ms/step - loss: 0.7243 - accuracy: 0.8053 - val_loss: 1.0211 - val_accuracy: 0.7590\n",
      "Epoch 78/500\n",
      "39/39 [==============================] - 0s 4ms/step - loss: 0.7244 - accuracy: 0.8056 - val_loss: 1.0201 - val_accuracy: 0.7637\n",
      "Epoch 79/500\n",
      "39/39 [==============================] - 0s 4ms/step - loss: 0.7224 - accuracy: 0.8063 - val_loss: 1.0258 - val_accuracy: 0.7590\n",
      "Epoch 80/500\n",
      "39/39 [==============================] - 0s 4ms/step - loss: 0.7210 - accuracy: 0.8082 - val_loss: 1.0316 - val_accuracy: 0.7572\n",
      "Epoch 81/500\n",
      "39/39 [==============================] - 0s 4ms/step - loss: 0.7186 - accuracy: 0.8070 - val_loss: 1.0295 - val_accuracy: 0.7594\n",
      "Epoch 82/500\n",
      "39/39 [==============================] - 0s 4ms/step - loss: 0.7136 - accuracy: 0.8096 - val_loss: 1.0310 - val_accuracy: 0.7614\n",
      "Epoch 83/500\n",
      "39/39 [==============================] - 0s 4ms/step - loss: 0.7167 - accuracy: 0.8084 - val_loss: 1.0406 - val_accuracy: 0.7589\n",
      "Epoch 84/500\n",
      "39/39 [==============================] - 0s 4ms/step - loss: 0.7132 - accuracy: 0.8091 - val_loss: 1.0356 - val_accuracy: 0.7602\n",
      "Epoch 85/500\n",
      "39/39 [==============================] - 0s 4ms/step - loss: 0.7106 - accuracy: 0.8100 - val_loss: 1.0418 - val_accuracy: 0.7624\n",
      "Epoch 86/500\n",
      "39/39 [==============================] - 0s 4ms/step - loss: 0.7076 - accuracy: 0.8106 - val_loss: 1.0414 - val_accuracy: 0.7587\n",
      "Epoch 87/500\n",
      "39/39 [==============================] - 0s 4ms/step - loss: 0.7063 - accuracy: 0.8117 - val_loss: 1.0480 - val_accuracy: 0.7579\n",
      "Epoch 88/500\n",
      "39/39 [==============================] - 0s 4ms/step - loss: 0.7043 - accuracy: 0.8103 - val_loss: 1.0464 - val_accuracy: 0.7610\n",
      "Epoch 89/500\n",
      "39/39 [==============================] - 0s 4ms/step - loss: 0.7018 - accuracy: 0.8132 - val_loss: 1.0457 - val_accuracy: 0.7580\n",
      "Epoch 90/500\n",
      "39/39 [==============================] - 0s 4ms/step - loss: 0.7006 - accuracy: 0.8130 - val_loss: 1.0491 - val_accuracy: 0.7607\n",
      "Epoch 91/500\n",
      "39/39 [==============================] - 0s 4ms/step - loss: 0.6985 - accuracy: 0.8139 - val_loss: 1.0511 - val_accuracy: 0.7579\n",
      "Epoch 92/500\n",
      "39/39 [==============================] - 0s 4ms/step - loss: 0.6984 - accuracy: 0.8131 - val_loss: 1.0592 - val_accuracy: 0.7606\n",
      "Epoch 93/500\n",
      "39/39 [==============================] - 0s 4ms/step - loss: 0.6945 - accuracy: 0.8157 - val_loss: 1.0570 - val_accuracy: 0.7595\n",
      "Epoch 94/500\n",
      "39/39 [==============================] - 0s 4ms/step - loss: 0.6933 - accuracy: 0.8161 - val_loss: 1.0632 - val_accuracy: 0.7601\n",
      "Epoch 95/500\n",
      "39/39 [==============================] - 0s 4ms/step - loss: 0.6925 - accuracy: 0.8153 - val_loss: 1.0562 - val_accuracy: 0.7579\n",
      "Epoch 96/500\n",
      "39/39 [==============================] - 0s 4ms/step - loss: 0.6906 - accuracy: 0.8165 - val_loss: 1.0616 - val_accuracy: 0.7584\n",
      "Epoch 97/500\n",
      "39/39 [==============================] - 0s 4ms/step - loss: 0.6896 - accuracy: 0.8176 - val_loss: 1.0673 - val_accuracy: 0.7552\n"
     ]
    }
   ],
   "source": [
    "# l_cb = LambdaCallback(\n",
    "#     on_epoch_end = lambda e, l: print('{:.2f}'.format( l[\"val_acc\"]), end = '\\n')\n",
    "# )\n",
    "\n",
    "es_cb = EarlyStopping(monitor = 'val_accuracy', patience = 30)\n",
    "\n",
    "history = model.fit(X, Y, epochs = 500, batch_size = 32, validation_split = 0.2,\n",
    "         verbose = True, callbacks = [es_cb])\n",
    "         #)"
   ]
  },
  {
   "cell_type": "code",
   "execution_count": 261,
   "metadata": {},
   "outputs": [],
   "source": [
    "ix = 1\n",
    "x_0 = np.zeros((1, max_time_steps, num_features))\n",
    "x_0[:, : ,ix] = 1"
   ]
  },
  {
   "cell_type": "code",
   "execution_count": 262,
   "metadata": {},
   "outputs": [],
   "source": [
    "pred = model.predict( x_0)"
   ]
  },
  {
   "cell_type": "code",
   "execution_count": 257,
   "metadata": {},
   "outputs": [
    {
     "data": {
      "text/plain": [
       "'aoooaaahaiinaosairua\\n\\n'"
      ]
     },
     "execution_count": 257,
     "metadata": {},
     "output_type": "execute_result"
    }
   ],
   "source": [
    "devectorize_example(pred[0,:,:])"
   ]
  },
  {
   "cell_type": "code",
   "execution_count": 254,
   "metadata": {},
   "outputs": [
    {
     "data": {
      "text/plain": [
       "[<matplotlib.lines.Line2D at 0x7f2d604dea10>]"
      ]
     },
     "execution_count": 254,
     "metadata": {},
     "output_type": "execute_result"
    },
    {
     "data": {
      "image/png": "[encoded data removed]",
      "text/plain": [
       "<Figure size 432x288 with 1 Axes>"
      ]
     },
     "metadata": {
      "needs_background": "light"
     },
     "output_type": "display_data"
    }
   ],
   "source": [
    "import matplotlib.pyplot as plt\n",
    "\n",
    "plt.plot(history.history[\"accuracy\"])\n",
    "plt.plot(history.history[\"val_accuracy\"])"
   ]
  },
  {
   "cell_type": "code",
   "execution_count": 247,
   "metadata": {},
   "outputs": [
    {
     "data": {
      "text/plain": [
       "[<matplotlib.lines.Line2D at 0x7f2de034f150>]"
      ]
     },
     "execution_count": 247,
     "metadata": {},
     "output_type": "execute_result"
    },
    {
     "data": {
      "image/png": "[encoded data removed]",
      "text/plain": [
       "<Figure size 432x288 with 1 Axes>"
      ]
     },
     "metadata": {
      "needs_background": "light"
     },
     "output_type": "display_data"
    }
   ],
   "source": [
    "plt.plot(history.history[\"loss\"])\n",
    "plt.plot(history.history[\"val_loss\"])"
   ]
  },
  {
   "cell_type": "code",
   "execution_count": null,
   "metadata": {},
   "outputs": [],
   "source": []
  },
  {
   "cell_type": "code",
   "execution_count": null,
   "metadata": {},
   "outputs": [],
   "source": []
  }
 ],
 "metadata": {
  "kernelspec": {
   "display_name": "DeepRNN-RandomNamesGenerator-venv",
   "language": "python",
   "name": "deeprnn-randomnamesgenerator-venv"
  },
  "language_info": {
   "codemirror_mode": {
    "name": "ipython",
    "version": 3
   },
   "file_extension": ".py",
   "mimetype": "text/x-python",
   "name": "python",
   "nbconvert_exporter": "python",
   "pygments_lexer": "ipython3",
   "version": "3.7.5"
  }
 },
 "nbformat": 4,
 "nbformat_minor": 4
}
